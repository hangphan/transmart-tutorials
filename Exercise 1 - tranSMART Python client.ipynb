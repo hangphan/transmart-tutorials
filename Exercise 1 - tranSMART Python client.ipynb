{
 "cells": [
  {
   "cell_type": "markdown",
   "metadata": {},
   "source": [
    "<img style=\"float: right;\" src=\"files/resources/general/thehyve_logo.png\">\n",
    "# TranSMART 17.1 REST API demonstration\n",
    "---------------\n",
    "Copyright (c) 2017 The Hyve B.V. This notebook is licensed under the GNU General Public License, version 3. Authors: \n",
    " - Ward Weistra\n",
    " - Jochem Bijlard\n"
   ]
  },
  {
   "cell_type": "markdown",
   "metadata": {},
   "source": [
    "We start by importing the tranSMART Python library (https://pypi.python.org/pypi/transmart) and connecting to the tranSMART server."
   ]
  },
  {
   "cell_type": "code",
   "execution_count": null,
   "metadata": {},
   "outputs": [],
   "source": [
    "import transmart as tm\n",
    "print('transmart python client version: {}'.format(tm.__version__))"
   ]
  },
  {
   "cell_type": "code",
   "execution_count": null,
   "metadata": {},
   "outputs": [],
   "source": [
    "# Instead of using your own account to login, we setup so can use \"demo-user\" as username and password\n",
    "\n",
    "user = password = 'demo-user'\n",
    "\n",
    "api = tm.TransmartApi(\n",
    "    host = 'http://transmart-test.thehyve.net',\n",
    "    user = user,\n",
    "    password = password,\n",
    "    api_version = 2,\n",
    "    print_urls = True)\n",
    "\n",
    "api.access()"
   ]
  },
  {
   "cell_type": "markdown",
   "metadata": {},
   "source": [
    "Next we import and configure Pandas, a Python library that helps us to work with the data. One of main concepts it has borrowed from `R`, you can do most of your data manipulation using dataframes.\n",
    "\n",
    "For future versions we would like to incorporate this and integration with Jupyter itself more closely into the Python client, but for now we will do some of the dirty work manually."
   ]
  },
  {
   "cell_type": "code",
   "execution_count": null,
   "metadata": {
    "collapsed": true
   },
   "outputs": [],
   "source": [
    "import pandas as pd\n",
    "from pandas.io.json import json_normalize\n",
    "\n",
    "pd.set_option('max_colwidth', 1000)\n",
    "pd.set_option(\"display.max_rows\", 100)\n",
    "pd.set_option(\"display.max_columns\", 100)"
   ]
  },
  {
   "cell_type": "markdown",
   "metadata": {},
   "source": [
    "## Whats is in the box?\n",
    "\n",
    "As a first REST API call it would be nice to see what studies are available in this tranSMART server.\n",
    "  \n",
    "You will see a list of all studies, their name (i.e. `studyId`) and what dimensions are available for this study. Remember that tranSMART previously only supported the dimensions patients, concepts and studies. Now you should see studies with many more dimensions! \n",
    "\n",
    "**NOTE: The API shows you what handles it is connecting to!**"
   ]
  },
  {
   "cell_type": "code",
   "execution_count": null,
   "metadata": {},
   "outputs": [],
   "source": [
    "studies = api.get_studies()\n",
    "studies"
   ]
  },
  {
   "cell_type": "markdown",
   "metadata": {},
   "source": [
    "## Part 1: Plotting blood pressure over time\n",
    "To answer a real question that uses the REST api and the new time dimension we will create plots of a sample dataset with blood pressure measured at multiple time points. To explore what we have in this project we will:\n",
    " \n",
    " 1. have a look at the patients\n",
    " 1. have a look at observations\n",
    " 1. create a subset of data we want to plot\n",
    " 1. create aggregated plots\n"
   ]
  },
  {
   "cell_type": "markdown",
   "metadata": {},
   "source": [
    "For this tutorial we will be using a preloaded project with the studyID `TRAINING`."
   ]
  },
  {
   "cell_type": "code",
   "execution_count": null,
   "metadata": {
    "collapsed": true
   },
   "outputs": [],
   "source": [
    "STUDY_ID = 'TRAINING'"
   ]
  },
  {
   "cell_type": "markdown",
   "metadata": {},
   "source": [
    "### 1.1 Getting the patients for this study\n",
    "We choose the TRAINING study and ask for all patients in this study using the `get_patients()` function. You will get a list with their patient details and patient identifiers. The variables you see (e.g. `Age`, `Sex`, and `Race`) historically have a special place in tranSMART and are often stored as both and observation and in this patient relationship table."
   ]
  },
  {
   "cell_type": "code",
   "execution_count": null,
   "metadata": {},
   "outputs": [],
   "source": [
    "patients = api.get_patients(study=STUDY_ID)\n",
    "patients"
   ]
  },
  {
   "cell_type": "markdown",
   "metadata": {},
   "source": [
    "### 1.2 Getting the observations\n",
    "\n",
    "Next we ask for the full list of observations for this study. This list will include one row per observation, with information from all their dimensions. The columns will have headers like `<dimension name>.<field name>` and `numericValue` or `stringValue` for the actual observation value."
   ]
  },
  {
   "cell_type": "code",
   "execution_count": null,
   "metadata": {},
   "outputs": [],
   "source": [
    "observations = api.get_observations(study=STUDY_ID)\n",
    "observations"
   ]
  },
  {
   "cell_type": "code",
   "execution_count": null,
   "metadata": {},
   "outputs": [],
   "source": [
    "# A quick overview of the columns in the returned dataframe.\n",
    "print('The columns in our dataframe are:')\n",
    "for index, column in enumerate(observations.columns):\n",
    "    print(' {:>5} {}'.format(index, column))"
   ]
  },
  {
   "cell_type": "code",
   "execution_count": null,
   "metadata": {},
   "outputs": [],
   "source": [
    "# And a list with the available concepts in this dataset:\n",
    "available_concepts = observations.loc[:, 'concept.conceptPath'].unique()\n",
    "\n",
    "print('Available concepts for this study:')\n",
    "for index, concept in enumerate(sorted(available_concepts)):\n",
    "    print('{:>5} {}'.format(index, concept))"
   ]
  },
  {
   "cell_type": "code",
   "execution_count": null,
   "metadata": {},
   "outputs": [],
   "source": [
    "observations[:10]"
   ]
  },
  {
   "cell_type": "markdown",
   "metadata": {},
   "source": [
    "### 1.3 Subsetting on the data we want\n",
    "\n",
    "For this exercise we are primarily interested in subject blood pressure. So lets select only data from our set that we want to use."
   ]
  },
  {
   "cell_type": "code",
   "execution_count": null,
   "metadata": {},
   "outputs": [],
   "source": [
    "concept_groups = observations.groupby('concept.conceptPath')\n",
    "blood_pressure_observations = concept_groups.get_group('\\\\Public Studies\\\\Training\\\\Measurements\\\\Blood pressure\\\\')\n",
    "blood_pressure_observations[:10]"
   ]
  },
  {
   "cell_type": "code",
   "execution_count": null,
   "metadata": {
    "scrolled": true
   },
   "outputs": [],
   "source": [
    "# Get the columns I want to use and give them better names.\n",
    "columns_of_interest = ['patient.inTrialId', 'trial visit.relTimeLabel', 'numericValue']\n",
    "blood_pressure_subset = blood_pressure_observations.loc[:, columns_of_interest]\n",
    "blood_pressure_subset.columns = ['subject', 'visit_label', 'blood_pressure']\n",
    "blood_pressure_subset"
   ]
  },
  {
   "cell_type": "markdown",
   "metadata": {},
   "source": [
    "### 1.4 So lets create some plots!!\n",
    "\n",
    "First import our plotting library and tell Jupyter to directly show the images we create using `matplotlib`."
   ]
  },
  {
   "cell_type": "code",
   "execution_count": null,
   "metadata": {
    "collapsed": true
   },
   "outputs": [],
   "source": [
    "%matplotlib inline\n",
    "import matplotlib.pyplot as plt"
   ]
  },
  {
   "cell_type": "markdown",
   "metadata": {},
   "source": [
    "TranSMARTs new data model allows for an arbirary number of observations per concept and/or trial visit. As you perhaps noticed in the previous step, in our example blood measure been measured twice per patient for each visit. In the plot we want to create we want to use the mean of these two values."
   ]
  },
  {
   "cell_type": "code",
   "execution_count": null,
   "metadata": {
    "collapsed": true
   },
   "outputs": [],
   "source": [
    "bp_pivot = blood_pressure_subset.pivot_table(index='visit_label', \n",
    "                                             values='blood_pressure', \n",
    "                                             columns='subject', \n",
    "                                             aggfunc='mean')\n",
    "bp_pivot;"
   ]
  },
  {
   "cell_type": "code",
   "execution_count": null,
   "metadata": {},
   "outputs": [],
   "source": [
    "subject_plot = bp_pivot.plot(legend=False, \n",
    "                             figsize=(12, 5),\n",
    "                             title='Mean blood pressure per subject')"
   ]
  },
  {
   "cell_type": "markdown",
   "metadata": {},
   "source": [
    "### 1.4b Masking with treatment\n",
    "\n",
    "Included in our example project is a treatment which we suspect lowers blood pressure. Let's include that in our analysis by adding it to our dataframe and creating a pivot based on that."
   ]
  },
  {
   "cell_type": "code",
   "execution_count": null,
   "metadata": {
    "collapsed": true
   },
   "outputs": [],
   "source": [
    "control_concept = '\\\\Public Studies\\\\Training\\\\Study Design\\\\Group\\\\Control\\\\'\n",
    "treated_concept = '\\\\Public Studies\\\\Training\\\\Study Design\\\\Group\\\\Treatment\\\\'\n",
    "\n",
    "control_group = list(concept_groups.get_group(control_concept).loc[:, 'patient.inTrialId'])\n",
    "treated_group = list(concept_groups.get_group(treated_concept).loc[:, 'patient.inTrialId'])"
   ]
  },
  {
   "cell_type": "code",
   "execution_count": null,
   "metadata": {
    "collapsed": true
   },
   "outputs": [],
   "source": [
    "def control_or_treated(observation):\n",
    "    if observation.subject in control_group:\n",
    "        return 'Control'\n",
    "    if observation.subject in treated_group:\n",
    "        return 'Treated'\n",
    "\n",
    "blood_pressure_subset['treatment_group'] = blood_pressure_subset.apply(control_or_treated, axis=1)"
   ]
  },
  {
   "cell_type": "code",
   "execution_count": null,
   "metadata": {
    "collapsed": true,
    "scrolled": false
   },
   "outputs": [],
   "source": [
    "treatment_pivot = blood_pressure_subset.pivot_table(index='visit_label', \n",
    "                                                    values='blood_pressure', \n",
    "                                                    columns='treatment_group', \n",
    "                                                    aggfunc='mean')"
   ]
  },
  {
   "cell_type": "code",
   "execution_count": null,
   "metadata": {},
   "outputs": [],
   "source": [
    "treatment_plot = treatment_pivot.plot(kind='bar',\n",
    "                                      figsize=(12, 5),\n",
    "                                      title='Mean blood pressure per treatment group')"
   ]
  },
  {
   "cell_type": "code",
   "execution_count": null,
   "metadata": {
    "collapsed": true
   },
   "outputs": [],
   "source": []
  },
  {
   "cell_type": "code",
   "execution_count": null,
   "metadata": {
    "collapsed": true
   },
   "outputs": [],
   "source": []
  },
  {
   "cell_type": "markdown",
   "metadata": {},
   "source": [
    "## Part 2: Combining Glowing Bear and the Python client\n",
    "\n",
    "For the second part we will work with the Glowing Bear user interface that was developed at The Hyve, funded by IMI Translocation and BBMRI.\n",
    "\n",
    "An API is great to extract exactly the data you need and analyze that. But it is harder to get a nice overview of all data that is available and define the exact set to extract. That is where the Glowing Bear was built for.\n",
    "\n",
    "Please go to http://glowingbear2-head.thehyve.net and create a Patient Set on the Data Selection tab (under Select patients). Once you have saved your patient set, copy the patient set identifier and paste that below."
   ]
  },
  {
   "cell_type": "code",
   "execution_count": null,
   "metadata": {
    "collapsed": true
   },
   "outputs": [],
   "source": [
    "patient_set_id = 28758"
   ]
  },
  {
   "cell_type": "markdown",
   "metadata": {},
   "source": [
    "Now let's return all patients for the patient set we made!"
   ]
  },
  {
   "cell_type": "code",
   "execution_count": null,
   "metadata": {
    "scrolled": true
   },
   "outputs": [],
   "source": [
    "patients = api.get_patients(patientSet = patient_set_id)\n",
    "patients"
   ]
  },
  {
   "cell_type": "markdown",
   "metadata": {},
   "source": [
    "And do the same for all observations for this patient set."
   ]
  },
  {
   "cell_type": "code",
   "execution_count": null,
   "metadata": {},
   "outputs": [],
   "source": [
    "observations = api.get_observations(study = STUDY_ID, patientSet = patient_set_id)\n",
    "observations"
   ]
  },
  {
   "cell_type": "markdown",
   "metadata": {},
   "source": [
    "Now you know exactly how to retrieve data from a tranSMART 2017 server and analyze this with Python! Please feel free to change this code in anyway you like. And if you have any questions, reach us at our public forum via development@thehyve.nl or https://groups.google.com/a/thehyve.nl/forum/#!forum/development."
   ]
  },
  {
   "cell_type": "code",
   "execution_count": null,
   "metadata": {
    "collapsed": true
   },
   "outputs": [],
   "source": []
  }
 ],
 "metadata": {
  "kernelspec": {
   "display_name": "Python (transmart-tutorials)",
   "language": "python",
   "name": "transmart-tutorials-env"
  },
  "language_info": {
   "codemirror_mode": {
    "name": "ipython",
    "version": 3
   },
   "file_extension": ".py",
   "mimetype": "text/x-python",
   "name": "python",
   "nbconvert_exporter": "python",
   "pygments_lexer": "ipython3",
   "version": "3.5.1"
  }
 },
 "nbformat": 4,
 "nbformat_minor": 2
}
